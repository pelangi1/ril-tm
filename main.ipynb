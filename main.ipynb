{
  "cells": [
    {
      "cell_type": "code",
      "execution_count": 1,
      "metadata": {
        "colab": {
          "base_uri": "https://localhost:8080/"
        },
        "id": "ba3_mjGzuZFK",
        "outputId": "9129f90c-1913-4d35-c47d-04a6ced8848f"
      },
      "outputs": [
        {
          "output_type": "stream",
          "name": "stdout",
          "text": [
            "Downloading data from https://www.cs.toronto.edu/~kriz/cifar-10-python.tar.gz\n",
            "170498071/170498071 [==============================] - 2s 0us/step\n",
            "Epoch 1/10\n",
            "1563/1563 [==============================] - 77s 49ms/step - loss: 1.5516 - accuracy: 0.4314 - val_loss: 1.2723 - val_accuracy: 0.5432\n",
            "Epoch 2/10\n",
            "1563/1563 [==============================] - 72s 46ms/step - loss: 1.1758 - accuracy: 0.5844 - val_loss: 1.1042 - val_accuracy: 0.6097\n",
            "Epoch 3/10\n",
            "1563/1563 [==============================] - 72s 46ms/step - loss: 1.0252 - accuracy: 0.6410 - val_loss: 1.0478 - val_accuracy: 0.6301\n",
            "Epoch 4/10\n",
            "1563/1563 [==============================] - 71s 46ms/step - loss: 0.9346 - accuracy: 0.6725 - val_loss: 0.9590 - val_accuracy: 0.6642\n",
            "Epoch 5/10\n",
            "1563/1563 [==============================] - 72s 46ms/step - loss: 0.8648 - accuracy: 0.6980 - val_loss: 0.9118 - val_accuracy: 0.6813\n",
            "Epoch 6/10\n",
            "1563/1563 [==============================] - 72s 46ms/step - loss: 0.8088 - accuracy: 0.7173 - val_loss: 0.9047 - val_accuracy: 0.6802\n",
            "Epoch 7/10\n",
            "1563/1563 [==============================] - 72s 46ms/step - loss: 0.7640 - accuracy: 0.7335 - val_loss: 0.9163 - val_accuracy: 0.6854\n",
            "Epoch 8/10\n",
            "1563/1563 [==============================] - 73s 47ms/step - loss: 0.7163 - accuracy: 0.7462 - val_loss: 0.8631 - val_accuracy: 0.7055\n",
            "Epoch 9/10\n",
            "1563/1563 [==============================] - 72s 46ms/step - loss: 0.6821 - accuracy: 0.7601 - val_loss: 0.8793 - val_accuracy: 0.7031\n",
            "Epoch 10/10\n",
            "1563/1563 [==============================] - 73s 47ms/step - loss: 0.6485 - accuracy: 0.7707 - val_loss: 0.9255 - val_accuracy: 0.6895\n"
          ]
        },
        {
          "output_type": "execute_result",
          "data": {
            "text/plain": [
              "<keras.callbacks.History at 0x7f195bb97dc0>"
            ]
          },
          "metadata": {},
          "execution_count": 1
        }
      ],
      "source": [
        "from tensorflow.keras import layers\n",
        "from tensorflow.keras import models\n",
        "\n",
        "# Create the model\n",
        "model = models.Sequential()\n",
        "model.add(layers.Conv2D(32, (3, 3), activation='relu', input_shape=(32, 32, 3)))\n",
        "model.add(layers.MaxPooling2D((2, 2)))\n",
        "model.add(layers.Conv2D(64, (3, 3), activation='relu'))\n",
        "model.add(layers.MaxPooling2D((2, 2)))\n",
        "model.add(layers.Conv2D(64, (3, 3), activation='relu'))\n",
        "model.add(layers.Flatten())\n",
        "model.add(layers.Dense(64, activation='relu'))\n",
        "model.add(layers.Dense(10, activation='softmax'))\n",
        "\n",
        "# Compile the model\n",
        "model.compile(optimizer='adam',\n",
        "              loss='categorical_crossentropy',\n",
        "              metrics=['accuracy'])\n",
        "\n",
        "# Train the model\n",
        "from tensorflow.keras.datasets import cifar10\n",
        "(x_train, y_train), (x_test, y_test) = cifar10.load_data()\n",
        "x_train = x_train.astype('float32') / 255\n",
        "x_test = x_test.astype('float32') / 255\n",
        "from tensorflow.keras.utils import to_categorical\n",
        "y_train = to_categorical(y_train)\n",
        "y_test = to_categorical(y_test)\n",
        "model.fit(x_train, y_train, epochs=10, batch_size=32, validation_data=(x_test, y_test))\n",
        "\n"
      ]
    },
    {
      "cell_type": "code",
      "source": [
        "import numpy as np\n",
        "import tensorflow as tf\n",
        "from tensorflow.keras.datasets import cifar10\n",
        "from tensorflow.keras.utils import to_categorical\n",
        "from tensorflow.keras.models import Sequential\n",
        "from tensorflow.keras.layers import Dense, Conv2D, MaxPooling2D, Flatten, Dropout\n",
        "from sklearn.model_selection import train_test_split\n",
        "from tensorflow.keras.callbacks import EarlyStopping\n",
        "\n",
        "# load dataset\n",
        "(x_train, y_train), (x_test, y_test) = cifar10.load_data()\n",
        "\n",
        "# preprocessing data\n",
        "x_train = x_train.astype('float32') / 255\n",
        "x_test = x_test.astype('float32') / 255\n",
        "y_train = to_categorical(y_train)\n",
        "y_test = to_categorical(y_test)\n",
        "\n",
        "# split dataset into train and validation set\n",
        "x_train, x_val, y_train, y_val = train_test_split(x_train, y_train, test_size=0.2, random_state=42)\n",
        "\n",
        "# create model\n",
        "model = Sequential()\n",
        "model.add(Conv2D(32, (3, 3), activation='relu', input_shape=(32, 32, 3)))\n",
        "model.add(MaxPooling2D((2, 2)))\n",
        "model.add(Conv2D(64, (3, 3), activation='relu'))\n",
        "model.add(MaxPooling2D((2, 2)))\n",
        "model.add(Conv2D(128, (3, 3), activation='relu'))\n",
        "model.add(Flatten())\n",
        "model.add(Dense(64, activation='relu'))\n",
        "model.add(Dense(10, activation='softmax'))\n",
        "\n",
        "# compile model\n",
        "model.compile(optimizer='adam', loss='categorical_crossentropy', metrics=['accuracy'])\n",
        "\n",
        "# train model\n",
        "# history = model.fit(x_train, y_train, epochs=100, batch_size=32, validation_data=(x_val, y_val))\n",
        "\n",
        "early_stopping = EarlyStopping(monitor='val_loss', patience=10)\n",
        "\n",
        "history = model.fit(x_train, y_train, epochs=20, batch_size=32, validation_data=(x_val, y_val), callbacks=[early_stopping])\n",
        "\n",
        "# evaluate model\n",
        "test_loss, test_acc = model.evaluate(x_test, y_test)\n",
        "print(\"Test loss:\", test_loss)\n",
        "print(\"Test accuracy:\", test_acc)\n",
        "\n"
      ],
      "metadata": {
        "colab": {
          "base_uri": "https://localhost:8080/"
        },
        "id": "bt5GpHKY0fAX",
        "outputId": "8693b8a8-5dc2-4d51-9642-381cfa26ad06"
      },
      "execution_count": 3,
      "outputs": [
        {
          "output_type": "stream",
          "name": "stdout",
          "text": [
            "Epoch 1/20\n",
            "1250/1250 [==============================] - 63s 50ms/step - loss: 1.5139 - accuracy: 0.4476 - val_loss: 1.2671 - val_accuracy: 0.5383\n",
            "Epoch 2/20\n",
            "1250/1250 [==============================] - 61s 48ms/step - loss: 1.1457 - accuracy: 0.5939 - val_loss: 1.0743 - val_accuracy: 0.6177\n",
            "Epoch 3/20\n",
            "1250/1250 [==============================] - 61s 49ms/step - loss: 0.9797 - accuracy: 0.6571 - val_loss: 1.0216 - val_accuracy: 0.6404\n",
            "Epoch 4/20\n",
            "1250/1250 [==============================] - 61s 49ms/step - loss: 0.8671 - accuracy: 0.6966 - val_loss: 0.9147 - val_accuracy: 0.6905\n",
            "Epoch 5/20\n",
            "1250/1250 [==============================] - 62s 49ms/step - loss: 0.7731 - accuracy: 0.7314 - val_loss: 0.9079 - val_accuracy: 0.6938\n",
            "Epoch 6/20\n",
            "1250/1250 [==============================] - 61s 49ms/step - loss: 0.6981 - accuracy: 0.7566 - val_loss: 0.8711 - val_accuracy: 0.7038\n",
            "Epoch 7/20\n",
            "1250/1250 [==============================] - 61s 49ms/step - loss: 0.6327 - accuracy: 0.7770 - val_loss: 0.9948 - val_accuracy: 0.6792\n",
            "Epoch 8/20\n",
            "1250/1250 [==============================] - 61s 49ms/step - loss: 0.5634 - accuracy: 0.8007 - val_loss: 0.9333 - val_accuracy: 0.6935\n",
            "Epoch 9/20\n",
            "1250/1250 [==============================] - 62s 49ms/step - loss: 0.5042 - accuracy: 0.8229 - val_loss: 0.9701 - val_accuracy: 0.6959\n",
            "Epoch 10/20\n",
            "1250/1250 [==============================] - 61s 49ms/step - loss: 0.4436 - accuracy: 0.8428 - val_loss: 0.9988 - val_accuracy: 0.7046\n",
            "Epoch 11/20\n",
            "1250/1250 [==============================] - 62s 49ms/step - loss: 0.4013 - accuracy: 0.8582 - val_loss: 1.1080 - val_accuracy: 0.6997\n",
            "Epoch 12/20\n",
            "1250/1250 [==============================] - 62s 50ms/step - loss: 0.3472 - accuracy: 0.8766 - val_loss: 1.1050 - val_accuracy: 0.7082\n",
            "Epoch 13/20\n",
            "1250/1250 [==============================] - 63s 50ms/step - loss: 0.3123 - accuracy: 0.8884 - val_loss: 1.1899 - val_accuracy: 0.6935\n",
            "Epoch 14/20\n",
            "1250/1250 [==============================] - 62s 50ms/step - loss: 0.2725 - accuracy: 0.9029 - val_loss: 1.3092 - val_accuracy: 0.6956\n",
            "Epoch 15/20\n",
            "1250/1250 [==============================] - 63s 50ms/step - loss: 0.2409 - accuracy: 0.9140 - val_loss: 1.3944 - val_accuracy: 0.6908\n",
            "Epoch 16/20\n",
            "1250/1250 [==============================] - 62s 50ms/step - loss: 0.2123 - accuracy: 0.9248 - val_loss: 1.5438 - val_accuracy: 0.6941\n",
            "313/313 [==============================] - 5s 15ms/step - loss: 1.5587 - accuracy: 0.6858\n",
            "Test loss: 1.5586763620376587\n",
            "Test accuracy: 0.6858000159263611\n"
          ]
        }
      ]
    }
  ],
  "metadata": {
    "kernelspec": {
      "display_name": "Python 3",
      "language": "python",
      "name": "python3"
    },
    "language_info": {
      "codemirror_mode": {
        "name": "ipython",
        "version": 3
      },
      "file_extension": ".py",
      "mimetype": "text/x-python",
      "name": "python",
      "nbconvert_exporter": "python",
      "pygments_lexer": "ipython3",
      "version": "3.9.7"
    },
    "orig_nbformat": 4,
    "vscode": {
      "interpreter": {
        "hash": "a96233c7eb5497f8707b385f4ab1b09e7727e337f1835b939e027776998421e5"
      }
    },
    "colab": {
      "provenance": []
    }
  },
  "nbformat": 4,
  "nbformat_minor": 0
}